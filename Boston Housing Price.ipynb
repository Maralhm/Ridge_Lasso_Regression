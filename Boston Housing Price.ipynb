{
 "cells": [
  {
   "cell_type": "markdown",
   "id": "f8e94737",
   "metadata": {},
   "source": [
    "# Lasso and Ridge regression"
   ]
  },
  {
   "cell_type": "markdown",
   "id": "42e1b70c",
   "metadata": {},
   "source": [
    "Linear Regression is a basic but powerful algorithm often used for predictive modeling. Yet, its effectiveness can be hindered when handling complex datasets that tend to lead to overfitting. \n",
    "Lasso (Least Absolute Shrinkage and Selection Operator) and Ridge regressions are both variants of linear regression that aim to improve model performance and prevent overfitting, particularly when dealing with datasets that have a large number of features or variables. They are part of a family of regularized regression techniques that add a penalty term to the linear regression cost function."
   ]
  },
  {
   "cell_type": "markdown",
   "id": "ddd8e424",
   "metadata": {},
   "source": [
    "### Boston Housing Price"
   ]
  },
  {
   "cell_type": "markdown",
   "id": "4401b3a7",
   "metadata": {},
   "source": [
    "#### Libraries"
   ]
  },
  {
   "cell_type": "code",
   "execution_count": 1,
   "id": "4aabb5f6",
   "metadata": {},
   "outputs": [],
   "source": [
    "import pandas as pd\n",
    "from sklearn.model_selection import train_test_split\n",
    "from sklearn.linear_model import LinearRegression, Lasso, Ridge\n",
    "from sklearn.metrics import mean_squared_error"
   ]
  },
  {
   "cell_type": "markdown",
   "id": "405d30d6",
   "metadata": {},
   "source": [
    "#### Reading the data"
   ]
  },
  {
   "cell_type": "code",
   "execution_count": 2,
   "id": "30c552f6",
   "metadata": {},
   "outputs": [
    {
     "data": {
      "text/html": [
       "<div>\n",
       "<style scoped>\n",
       "    .dataframe tbody tr th:only-of-type {\n",
       "        vertical-align: middle;\n",
       "    }\n",
       "\n",
       "    .dataframe tbody tr th {\n",
       "        vertical-align: top;\n",
       "    }\n",
       "\n",
       "    .dataframe thead th {\n",
       "        text-align: right;\n",
       "    }\n",
       "</style>\n",
       "<table border=\"1\" class=\"dataframe\">\n",
       "  <thead>\n",
       "    <tr style=\"text-align: right;\">\n",
       "      <th></th>\n",
       "      <th>CRIM</th>\n",
       "      <th>ZN</th>\n",
       "      <th>Indus</th>\n",
       "      <th>CHAS</th>\n",
       "      <th>NOS</th>\n",
       "      <th>RM</th>\n",
       "      <th>AGE</th>\n",
       "      <th>DIS</th>\n",
       "      <th>RAD</th>\n",
       "      <th>TAX</th>\n",
       "      <th>PTRATIO</th>\n",
       "      <th>B</th>\n",
       "      <th>LSTAT</th>\n",
       "      <th>MEDV</th>\n",
       "    </tr>\n",
       "  </thead>\n",
       "  <tbody>\n",
       "    <tr>\n",
       "      <th>0</th>\n",
       "      <td>0.00632</td>\n",
       "      <td>18.0</td>\n",
       "      <td>2.31</td>\n",
       "      <td>0</td>\n",
       "      <td>0.538</td>\n",
       "      <td>6.575</td>\n",
       "      <td>65.2</td>\n",
       "      <td>4.0900</td>\n",
       "      <td>1</td>\n",
       "      <td>296.0</td>\n",
       "      <td>15.3</td>\n",
       "      <td>396.90</td>\n",
       "      <td>4.98</td>\n",
       "      <td>24.0</td>\n",
       "    </tr>\n",
       "    <tr>\n",
       "      <th>1</th>\n",
       "      <td>0.02731</td>\n",
       "      <td>0.0</td>\n",
       "      <td>7.07</td>\n",
       "      <td>0</td>\n",
       "      <td>0.469</td>\n",
       "      <td>6.421</td>\n",
       "      <td>78.9</td>\n",
       "      <td>4.9671</td>\n",
       "      <td>2</td>\n",
       "      <td>242.0</td>\n",
       "      <td>17.8</td>\n",
       "      <td>396.90</td>\n",
       "      <td>9.14</td>\n",
       "      <td>21.6</td>\n",
       "    </tr>\n",
       "    <tr>\n",
       "      <th>2</th>\n",
       "      <td>0.02729</td>\n",
       "      <td>0.0</td>\n",
       "      <td>7.07</td>\n",
       "      <td>0</td>\n",
       "      <td>0.469</td>\n",
       "      <td>7.185</td>\n",
       "      <td>61.1</td>\n",
       "      <td>4.9671</td>\n",
       "      <td>2</td>\n",
       "      <td>242.0</td>\n",
       "      <td>17.8</td>\n",
       "      <td>392.83</td>\n",
       "      <td>4.03</td>\n",
       "      <td>34.7</td>\n",
       "    </tr>\n",
       "    <tr>\n",
       "      <th>3</th>\n",
       "      <td>0.03237</td>\n",
       "      <td>0.0</td>\n",
       "      <td>2.18</td>\n",
       "      <td>0</td>\n",
       "      <td>0.458</td>\n",
       "      <td>6.998</td>\n",
       "      <td>45.8</td>\n",
       "      <td>6.0622</td>\n",
       "      <td>3</td>\n",
       "      <td>222.0</td>\n",
       "      <td>18.7</td>\n",
       "      <td>394.63</td>\n",
       "      <td>2.94</td>\n",
       "      <td>33.4</td>\n",
       "    </tr>\n",
       "    <tr>\n",
       "      <th>4</th>\n",
       "      <td>0.06905</td>\n",
       "      <td>0.0</td>\n",
       "      <td>2.18</td>\n",
       "      <td>0</td>\n",
       "      <td>0.458</td>\n",
       "      <td>7.147</td>\n",
       "      <td>54.2</td>\n",
       "      <td>6.0622</td>\n",
       "      <td>3</td>\n",
       "      <td>222.0</td>\n",
       "      <td>18.7</td>\n",
       "      <td>396.90</td>\n",
       "      <td>5.33</td>\n",
       "      <td>36.2</td>\n",
       "    </tr>\n",
       "    <tr>\n",
       "      <th>5</th>\n",
       "      <td>0.02985</td>\n",
       "      <td>0.0</td>\n",
       "      <td>2.18</td>\n",
       "      <td>0</td>\n",
       "      <td>0.458</td>\n",
       "      <td>6.430</td>\n",
       "      <td>58.7</td>\n",
       "      <td>6.0622</td>\n",
       "      <td>3</td>\n",
       "      <td>222.0</td>\n",
       "      <td>18.7</td>\n",
       "      <td>394.12</td>\n",
       "      <td>5.21</td>\n",
       "      <td>28.7</td>\n",
       "    </tr>\n",
       "    <tr>\n",
       "      <th>6</th>\n",
       "      <td>0.08829</td>\n",
       "      <td>12.5</td>\n",
       "      <td>7.87</td>\n",
       "      <td>0</td>\n",
       "      <td>0.524</td>\n",
       "      <td>6.012</td>\n",
       "      <td>66.6</td>\n",
       "      <td>5.5605</td>\n",
       "      <td>5</td>\n",
       "      <td>311.0</td>\n",
       "      <td>15.2</td>\n",
       "      <td>395.60</td>\n",
       "      <td>12.43</td>\n",
       "      <td>22.9</td>\n",
       "    </tr>\n",
       "    <tr>\n",
       "      <th>7</th>\n",
       "      <td>0.14455</td>\n",
       "      <td>12.5</td>\n",
       "      <td>7.87</td>\n",
       "      <td>0</td>\n",
       "      <td>0.524</td>\n",
       "      <td>6.172</td>\n",
       "      <td>96.1</td>\n",
       "      <td>5.9505</td>\n",
       "      <td>5</td>\n",
       "      <td>311.0</td>\n",
       "      <td>15.2</td>\n",
       "      <td>396.90</td>\n",
       "      <td>19.15</td>\n",
       "      <td>27.1</td>\n",
       "    </tr>\n",
       "    <tr>\n",
       "      <th>8</th>\n",
       "      <td>0.21124</td>\n",
       "      <td>12.5</td>\n",
       "      <td>7.87</td>\n",
       "      <td>0</td>\n",
       "      <td>0.524</td>\n",
       "      <td>5.631</td>\n",
       "      <td>100.0</td>\n",
       "      <td>6.0821</td>\n",
       "      <td>5</td>\n",
       "      <td>311.0</td>\n",
       "      <td>15.2</td>\n",
       "      <td>386.63</td>\n",
       "      <td>29.93</td>\n",
       "      <td>16.5</td>\n",
       "    </tr>\n",
       "    <tr>\n",
       "      <th>9</th>\n",
       "      <td>0.17004</td>\n",
       "      <td>12.5</td>\n",
       "      <td>7.87</td>\n",
       "      <td>0</td>\n",
       "      <td>0.524</td>\n",
       "      <td>6.004</td>\n",
       "      <td>85.9</td>\n",
       "      <td>6.5921</td>\n",
       "      <td>5</td>\n",
       "      <td>311.0</td>\n",
       "      <td>15.2</td>\n",
       "      <td>386.71</td>\n",
       "      <td>17.10</td>\n",
       "      <td>18.9</td>\n",
       "    </tr>\n",
       "  </tbody>\n",
       "</table>\n",
       "</div>"
      ],
      "text/plain": [
       "      CRIM    ZN  Indus  CHAS    NOS     RM    AGE     DIS  RAD    TAX  \\\n",
       "0  0.00632  18.0   2.31     0  0.538  6.575   65.2  4.0900    1  296.0   \n",
       "1  0.02731   0.0   7.07     0  0.469  6.421   78.9  4.9671    2  242.0   \n",
       "2  0.02729   0.0   7.07     0  0.469  7.185   61.1  4.9671    2  242.0   \n",
       "3  0.03237   0.0   2.18     0  0.458  6.998   45.8  6.0622    3  222.0   \n",
       "4  0.06905   0.0   2.18     0  0.458  7.147   54.2  6.0622    3  222.0   \n",
       "5  0.02985   0.0   2.18     0  0.458  6.430   58.7  6.0622    3  222.0   \n",
       "6  0.08829  12.5   7.87     0  0.524  6.012   66.6  5.5605    5  311.0   \n",
       "7  0.14455  12.5   7.87     0  0.524  6.172   96.1  5.9505    5  311.0   \n",
       "8  0.21124  12.5   7.87     0  0.524  5.631  100.0  6.0821    5  311.0   \n",
       "9  0.17004  12.5   7.87     0  0.524  6.004   85.9  6.5921    5  311.0   \n",
       "\n",
       "   PTRATIO       B  LSTAT  MEDV  \n",
       "0     15.3  396.90   4.98  24.0  \n",
       "1     17.8  396.90   9.14  21.6  \n",
       "2     17.8  392.83   4.03  34.7  \n",
       "3     18.7  394.63   2.94  33.4  \n",
       "4     18.7  396.90   5.33  36.2  \n",
       "5     18.7  394.12   5.21  28.7  \n",
       "6     15.2  395.60  12.43  22.9  \n",
       "7     15.2  396.90  19.15  27.1  \n",
       "8     15.2  386.63  29.93  16.5  \n",
       "9     15.2  386.71  17.10  18.9  "
      ]
     },
     "execution_count": 2,
     "metadata": {},
     "output_type": "execute_result"
    }
   ],
   "source": [
    "colnames = [\"CRIM\", \"ZN\", \"Indus\", \"CHAS\", \"NOS\", \"RM\", \"AGE\",\"DIS\",\"RAD\",\"TAX\", \"PTRATIO\",\"B\",\"LSTAT\",\"MEDV\"]\n",
    "data = pd.read_csv(\"/Users/maralhajizadeh/Downloads/housing.csv\", delim_whitespace=True, header=None, names=colnames )\n",
    "data.head(10)"
   ]
  },
  {
   "cell_type": "code",
   "execution_count": 3,
   "id": "cd884f0c",
   "metadata": {},
   "outputs": [
    {
     "name": "stdout",
     "output_type": "stream",
     "text": [
      "(506, 14)\n"
     ]
    }
   ],
   "source": [
    "print(data.shape)"
   ]
  },
  {
   "cell_type": "markdown",
   "id": "af72680e",
   "metadata": {},
   "source": [
    "#### Separating target and features"
   ]
  },
  {
   "cell_type": "code",
   "execution_count": 4,
   "id": "4307525d",
   "metadata": {},
   "outputs": [],
   "source": [
    "target = [\"MEDV\"]\n",
    "features = [\"CRIM\", \"ZN\", \"Indus\", \"CHAS\", \"NOS\", \"RM\", \"AGE\",\"DIS\",\"RAD\",\"TAX\", \"PTRATIO\",\"B\",\"LSTAT\"]\n",
    "\n",
    "y = data[target]\n",
    "X = data[features]"
   ]
  },
  {
   "cell_type": "markdown",
   "id": "46ad4084",
   "metadata": {},
   "source": [
    "#### Train test split"
   ]
  },
  {
   "cell_type": "code",
   "execution_count": 5,
   "id": "9a6763be",
   "metadata": {},
   "outputs": [
    {
     "name": "stdout",
     "output_type": "stream",
     "text": [
      "(404, 13)\n",
      "(102, 13)\n",
      "(404, 1)\n",
      "(102, 1)\n"
     ]
    }
   ],
   "source": [
    "X_train, X_test, y_train, y_test = train_test_split(X, y, test_size=0.2, random_state= 5 )\n",
    "print(X_train.shape)\n",
    "print(X_test.shape)\n",
    "print(y_train.shape)\n",
    "print(y_test.shape)"
   ]
  },
  {
   "cell_type": "markdown",
   "id": "e0c83acf",
   "metadata": {},
   "source": [
    "#### Linear regression"
   ]
  },
  {
   "cell_type": "code",
   "execution_count": 6,
   "id": "66c36ba3",
   "metadata": {},
   "outputs": [],
   "source": [
    "linear_regression = LinearRegression()\n",
    "linear_regression.fit(X_train, y_train)\n",
    "\n",
    "y_prediction = linear_regression.predict(X_test)"
   ]
  },
  {
   "cell_type": "code",
   "execution_count": 7,
   "id": "28f00ae5",
   "metadata": {},
   "outputs": [
    {
     "name": "stdout",
     "output_type": "stream",
     "text": [
      "20.86929218377082\n"
     ]
    }
   ],
   "source": [
    "mse_linear = mean_squared_error(y_prediction, y_test)\n",
    "print(mse_linear)"
   ]
  },
  {
   "cell_type": "code",
   "execution_count": 8,
   "id": "782ff9a5",
   "metadata": {},
   "outputs": [
    {
     "name": "stdout",
     "output_type": "stream",
     "text": [
      "[[-1.30799852e-01  4.94030235e-02  1.09535045e-03  2.70536624e+00\n",
      "  -1.59570504e+01  3.41397332e+00  1.11887670e-03 -1.49308124e+00\n",
      "   3.64422378e-01 -1.31718155e-02 -9.52369666e-01  1.17492092e-02\n",
      "  -5.94076089e-01]]\n"
     ]
    }
   ],
   "source": [
    "print(linear_regression.coef_)"
   ]
  },
  {
   "cell_type": "markdown",
   "id": "4fb364cf",
   "metadata": {},
   "source": [
    "#### Lasso Regression"
   ]
  },
  {
   "cell_type": "markdown",
   "id": "4a875693",
   "metadata": {},
   "source": [
    "Lasso regression not only minimizes the sum of squared errors between the predicted and actual values but also adds a penalty term equal to the absolute value of the coefficients of the regression variables. This penalty term encourages less important features to have their coefficients shrink to zero, effectively performing feature selection. Lasso regression is valuable when dealing with datasets with many features, as it can help identify the most significant features for the model, leading to simpler and more interpretable models."
   ]
  },
  {
   "cell_type": "code",
   "execution_count": 9,
   "id": "dc744f86",
   "metadata": {},
   "outputs": [
    {
     "name": "stdout",
     "output_type": "stream",
     "text": [
      "Lasso MSE with Lambda=1e-06 is 20.869316466359194\n",
      "Lasso MSE with Lambda=0.0001 is 20.871726598779265\n",
      "Lasso MSE with Lambda=0.001 is 20.89369835693941\n",
      "Lasso MSE with Lambda=0.005 is 21.00345613086737\n",
      "Lasso MSE with Lambda=0.01 is 21.167936856245273\n",
      "Lasso MSE with Lambda=0.05 is 23.100190101810377\n",
      "Lasso MSE with Lambda=0.1 is 23.40636423156822\n",
      "Lasso MSE with Lambda=0.2 is 24.00621891011563\n",
      "Lasso MSE with Lambda=0.3 is 24.375391018990012\n",
      "Lasso MSE with Lambda=0.4 is 24.85064790987889\n",
      "Lasso MSE with Lambda=0.5 is 25.40742550777958\n"
     ]
    }
   ],
   "source": [
    "lambda_values = [0.000001, 0.0001, 0.001, 0.005, 0.01, 0.05, 0.1, 0.2, 0.3, 0.4, 0.5]\n",
    "\n",
    "for lambda_val in lambda_values:\n",
    "    lasso_reg = Lasso(lambda_val)\n",
    "    lasso_reg.fit(X_train, y_train)\n",
    "    y_lasso_pred = lasso_reg.predict(X_test)\n",
    "    mse_lasso_reg = mean_squared_error(y_lasso_pred, y_test)\n",
    "    print((\"Lasso MSE with Lambda={} is {}\").format(lambda_val, mse_lasso_reg))"
   ]
  },
  {
   "cell_type": "code",
   "execution_count": 10,
   "id": "b9b57009",
   "metadata": {},
   "outputs": [
    {
     "name": "stdout",
     "output_type": "stream",
     "text": [
      "[-0.10423955  0.0555089  -0.00434685  0.         -0.          1.98853933\n",
      "  0.00834505 -0.94912292  0.33753916 -0.01617382 -0.81471466  0.0108382\n",
      " -0.7345398 ]\n"
     ]
    }
   ],
   "source": [
    "print(lasso_reg.coef_)"
   ]
  },
  {
   "cell_type": "markdown",
   "id": "7e31705c",
   "metadata": {},
   "source": [
    "#### Ridge Regression"
   ]
  },
  {
   "cell_type": "markdown",
   "id": "54fa8e8f",
   "metadata": {},
   "source": [
    "Ridge regression, on the other hand, adds a penalty term equal to the square of the coefficients of the regression variables. This penalty term prevents overfitting by shrinking the coefficients of less important features, effectively reducing their impact on the model. Ridge regression is particularly useful when dealing with multicollinearity, a situation where two or more predictor variables are highly correlated. By reducing the impact of these correlated features, Ridge regression improves the stability of the model's estimates."
   ]
  },
  {
   "cell_type": "code",
   "execution_count": 11,
   "id": "66b2f6b0",
   "metadata": {},
   "outputs": [
    {
     "name": "stdout",
     "output_type": "stream",
     "text": [
      "Ridge MSE with Lambda=1e-06 is 25.40742550777958\n",
      "Ridge MSE with Lambda=0.0001 is 25.40742550777958\n",
      "Ridge MSE with Lambda=0.001 is 25.40742550777958\n",
      "Ridge MSE with Lambda=0.005 is 25.40742550777958\n",
      "Ridge MSE with Lambda=0.01 is 25.40742550777958\n",
      "Ridge MSE with Lambda=0.05 is 25.40742550777958\n",
      "Ridge MSE with Lambda=0.1 is 25.40742550777958\n",
      "Ridge MSE with Lambda=0.2 is 25.40742550777958\n",
      "Ridge MSE with Lambda=0.3 is 25.40742550777958\n",
      "Ridge MSE with Lambda=0.4 is 25.40742550777958\n",
      "Ridge MSE with Lambda=0.5 is 25.40742550777958\n"
     ]
    }
   ],
   "source": [
    "lambda_values = [0.000001, 0.0001, 0.001, 0.005, 0.01, 0.05, 0.1, 0.2, 0.3, 0.4, 0.5]\n",
    "\n",
    "for lambda_val in lambda_values:\n",
    "    ridge_reg = Ridge(lambda_val)\n",
    "    ridge_reg.fit(X_train, y_train)\n",
    "    y_ridge_pred = ridge_reg.predict(X_test)\n",
    "    mse_ridge_reg = mean_squared_error(y_ridge_pred, y_test)\n",
    "    print((\"Ridge MSE with Lambda={} is {}\").format(lambda_val, mse_lasso_reg))"
   ]
  },
  {
   "cell_type": "code",
   "execution_count": 12,
   "id": "692ebf29",
   "metadata": {},
   "outputs": [
    {
     "name": "stdout",
     "output_type": "stream",
     "text": [
      "[[-1.29041139e-01  5.05043549e-02 -1.91019826e-02  2.57832650e+00\n",
      "  -1.10800075e+01  3.42613786e+00 -2.28696986e-03 -1.41932773e+00\n",
      "   3.54363863e-01 -1.36443753e-02 -9.04455056e-01  1.19076825e-02\n",
      "  -6.03367738e-01]]\n"
     ]
    }
   ],
   "source": [
    "print(ridge_reg.coef_)"
   ]
  },
  {
   "cell_type": "markdown",
   "id": "fd4cff81",
   "metadata": {},
   "source": [
    "Both Lasso and Ridge regressions are powerful techniques for addressing overfitting and improving the generalization of linear regression models. They strike a balance between model complexity and performance, enabling more robust and reliable predictions, particularly in situations where there is a high risk of overfitting or when dealing with datasets with a large number of features."
   ]
  }
 ],
 "metadata": {
  "kernelspec": {
   "display_name": "Python 3 (ipykernel)",
   "language": "python",
   "name": "python3"
  },
  "language_info": {
   "codemirror_mode": {
    "name": "ipython",
    "version": 3
   },
   "file_extension": ".py",
   "mimetype": "text/x-python",
   "name": "python",
   "nbconvert_exporter": "python",
   "pygments_lexer": "ipython3",
   "version": "3.9.13"
  }
 },
 "nbformat": 4,
 "nbformat_minor": 5
}
